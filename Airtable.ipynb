{
  "cells": [
    {
      "cell_type": "markdown",
      "metadata": {
        "id": "view-in-github",
        "colab_type": "text"
      },
      "source": [
        "<a href=\"https://colab.research.google.com/github/marcmontb/airtable-data/blob/main/Airtable.ipynb\" target=\"_parent\"><img src=\"https://colab.research.google.com/assets/colab-badge.svg\" alt=\"Open In Colab\"/></a>"
      ]
    },
    {
      "cell_type": "code",
      "execution_count": null,
      "metadata": {
        "colab": {
          "base_uri": "https://localhost:8080/"
        },
        "id": "yWdiRLg2R_W6",
        "outputId": "1f264f7e-09f0-4053-caf0-7817e82421f0"
      },
      "outputs": [
        {
          "name": "stdout",
          "output_type": "stream",
          "text": [
            "Requirement already satisfied: requests in /usr/local/lib/python3.10/dist-packages (2.31.0)\n",
            "Requirement already satisfied: charset-normalizer<4,>=2 in /usr/local/lib/python3.10/dist-packages (from requests) (3.3.2)\n",
            "Requirement already satisfied: idna<4,>=2.5 in /usr/local/lib/python3.10/dist-packages (from requests) (3.7)\n",
            "Requirement already satisfied: urllib3<3,>=1.21.1 in /usr/local/lib/python3.10/dist-packages (from requests) (2.0.7)\n",
            "Requirement already satisfied: certifi>=2017.4.17 in /usr/local/lib/python3.10/dist-packages (from requests) (2024.7.4)\n"
          ]
        }
      ],
      "source": [
        "!pip install requests\n"
      ]
    },
    {
      "cell_type": "code",
      "execution_count": null,
      "metadata": {
        "colab": {
          "base_uri": "https://localhost:8080/"
        },
        "id": "nhbpXgJcVGhS",
        "outputId": "98cbcfeb-2b6e-4ae3-d08d-599a1706f378"
      },
      "outputs": [
        {
          "name": "stdout",
          "output_type": "stream",
          "text": [
            "Number of records fetched: 560\n",
            "{'id': 'rec00NDiyg26PqJMO', 'createdTime': '2022-01-03T11:28:49.000Z', 'fields': {'Company': 'GrowPro', 'Based in': 'Spain', 'Date': '2021-12-20', 'Link': 'https://elreferente.es/inversiones/growpro-cierra-ronda-financiacion-1m-liderada-angels-capital/', 'Investment round (€)': 1000000, '€/$/-': '€', 'B2b/b2c': 'b2b & b2c', 'One line description': 'Marketplace experiencias educativas internacionales (', 'Did we come across it?': 'Yes', 'When?': 'Nov-20', 'Did we analyse it?': 'No', 'Why did we pass?': 'High valuation. Impacto from Covid on travel. Pivoting from pure marketplace.', 'Additional comment & description': 'Más de 200 empleados en 15 países.\\n\\nEn 2021 han alcanzado 300 bookings al mes en algunos meses.\\n\\nEn cuanto al modelo B2B, la empresa trabaja actualmente con más de 30 agencias, aportándoles sus servicios de posventa, trámites y la experiencia en destino, en formato SaaS. Por otro lado, dentro de estas agencias, son 100 los usuarios que se sirven del CRM de GrowPro. Este modelo, que ya representa el 5% de los bookings de GrowPro.', 'Investors': ['recBA1nLriy3eTEpj'], 'Tags': ['rec2QbzRDWrKy6b4p', 'recH7w54pN0EdvQFm'], 'Category': ['rec2wAvLdmZJi8OhX'], 'Investor (from Investors)': ['Angels Capital'], 'Days': 941}}\n",
            "Data saved to airtable_data.csv\n"
          ]
        }
      ],
      "source": [
        "\n",
        "import requests\n",
        "import csv\n",
        "\n",
        "# Configuration\n",
        "personal_access_token = 'patqWFOjixqRq98ad.dd93cf5190a3a630bbca59d6aa476a4a93681f71230d029b71cccb0f76f2ab7f'\n",
        "base_id = 'appWDnr3zf5AN1kVJ'  # Replace with your actual Base ID\n",
        "table_id = 'tblm3QcjdjdRpPtDH'  # Replace with your actual Table ID\n",
        "\n",
        "# Headers\n",
        "headers = {\n",
        "    'Authorization': f'Bearer {personal_access_token}'\n",
        "}\n",
        "\n",
        "# Fetch all records with pagination\n",
        "def fetch_all_records(base_id, table_id):\n",
        "    all_records = []\n",
        "    offset = None\n",
        "\n",
        "    while True:\n",
        "        url = f\"https://api.airtable.com/v0/{base_id}/{table_id}\"\n",
        "        params = {'offset': offset} if offset else {}\n",
        "\n",
        "        response = requests.get(url, headers=headers, params=params)\n",
        "        if response.status_code != 200:\n",
        "            print(f\"Error: {response.status_code} - {response.text}\")\n",
        "            break\n",
        "\n",
        "        data = response.json()\n",
        "        all_records.extend(data.get('records', []))\n",
        "\n",
        "        offset = data.get('offset')\n",
        "        if not offset:\n",
        "            break\n",
        "\n",
        "    return all_records\n",
        "\n",
        "# Fetch records\n",
        "all_records = fetch_all_records(base_id, table_id)\n",
        "\n",
        "# Display the number of records fetched\n",
        "print(f\"Number of records fetched: {len(all_records)}\")\n",
        "\n",
        "# Optionally, display a sample of the fetched records\n",
        "if all_records:\n",
        "    print(all_records[0])\n",
        "\n",
        "\n",
        "# Function to process multi-value fields\n",
        "def process_fields(record_fields):\n",
        "    processed_fields = {}\n",
        "    for key, value in record_fields.items():\n",
        "        if isinstance(value, list):\n",
        "            if all(isinstance(item, dict) for item in value):\n",
        "                processed_fields[key] = ', '.join(\n",
        "                    ', '.join(f\"{k}: {v}\" for k, v in item.items()) for item in value)\n",
        "            else:\n",
        "                processed_fields[key] = ', '.join(map(str, value))\n",
        "        elif isinstance(value, dict):\n",
        "            processed_fields[key] = ', '.join(f\"{k}: {v}\" for k, v in value.items())\n",
        "        else:\n",
        "            processed_fields[key] = value\n",
        "    return processed_fields\n",
        "\n",
        "# Save records to a CSV file\n",
        "def save_to_csv(records, output_csv='airtable_data.csv'):\n",
        "    if not records:\n",
        "        print(\"No records found.\")\n",
        "        return\n",
        "\n",
        "    # Dynamically determine fieldnames\n",
        "    fieldnames = set()\n",
        "    for record in records:\n",
        "        fieldnames.update(record['fields'].keys())\n",
        "\n",
        "    with open(output_csv, 'w', newline='', encoding='utf-8') as csvfile:\n",
        "        writer = csv.DictWriter(csvfile, fieldnames=fieldnames)\n",
        "        writer.writeheader()\n",
        "        for record in records:\n",
        "            writer.writerow(record['fields'])\n",
        "\n",
        "    print(f\"Data saved to {output_csv}\")\n",
        "\n",
        "# Save to CSV\n",
        "save_to_csv(all_records)\n"
      ]
    },
    {
      "cell_type": "markdown",
      "metadata": {
        "id": "uWM5Qa6cqLBo"
      },
      "source": [
        "# AWS code\n"
      ]
    },
    {
      "cell_type": "code",
      "execution_count": null,
      "metadata": {
        "colab": {
          "background_save": true,
          "base_uri": "https://localhost:8080/"
        },
        "id": "zAa4qYfCeEXd",
        "outputId": "f1e2d2b1-d3aa-431d-ea7f-9cc4ce044ce9"
      },
      "outputs": [
        {
          "name": "stdout",
          "output_type": "stream",
          "text": [
            "Collecting awscli\n",
            "  Downloading awscli-1.33.26-py3-none-any.whl (4.5 MB)\n",
            "\u001b[2K     \u001b[90m━━━━━━━━━━━━━━━━━━━━━━━━━━━━━━━━━━━━━━━━\u001b[0m \u001b[32m4.5/4.5 MB\u001b[0m \u001b[31m40.7 MB/s\u001b[0m eta \u001b[36m0:00:00\u001b[0m\n",
            "\u001b[?25hCollecting botocore==1.34.144 (from awscli)\n",
            "  Downloading botocore-1.34.144-py3-none-any.whl (12.4 MB)\n",
            "\u001b[2K     \u001b[90m━━━━━━━━━━━━━━━━━━━━━━━━━━━━━━━━━━━━━━━━\u001b[0m \u001b[32m12.4/12.4 MB\u001b[0m \u001b[31m51.2 MB/s\u001b[0m eta \u001b[36m0:00:00\u001b[0m\n",
            "\u001b[?25hCollecting docutils<0.17,>=0.10 (from awscli)\n",
            "  Downloading docutils-0.16-py2.py3-none-any.whl (548 kB)\n",
            "\u001b[2K     \u001b[90m━━━━━━━━━━━━━━━━━━━━━━━━━━━━━━━━━━━━━━━━\u001b[0m \u001b[32m548.2/548.2 kB\u001b[0m \u001b[31m36.9 MB/s\u001b[0m eta \u001b[36m0:00:00\u001b[0m\n",
            "\u001b[?25hCollecting s3transfer<0.11.0,>=0.10.0 (from awscli)\n",
            "  Downloading s3transfer-0.10.2-py3-none-any.whl (82 kB)\n",
            "\u001b[2K     \u001b[90m━━━━━━━━━━━━━━━━━━━━━━━━━━━━━━━━━━━━━━━━\u001b[0m \u001b[32m82.7/82.7 kB\u001b[0m \u001b[31m10.7 MB/s\u001b[0m eta \u001b[36m0:00:00\u001b[0m\n",
            "\u001b[?25hRequirement already satisfied: PyYAML<6.1,>=3.10 in /usr/local/lib/python3.10/dist-packages (from awscli) (6.0.1)\n",
            "Collecting colorama<0.4.7,>=0.2.5 (from awscli)\n",
            "  Downloading colorama-0.4.6-py2.py3-none-any.whl (25 kB)\n",
            "Collecting rsa<4.8,>=3.1.2 (from awscli)\n",
            "  Downloading rsa-4.7.2-py3-none-any.whl (34 kB)\n",
            "Collecting jmespath<2.0.0,>=0.7.1 (from botocore==1.34.144->awscli)\n",
            "  Downloading jmespath-1.0.1-py3-none-any.whl (20 kB)\n",
            "Requirement already satisfied: python-dateutil<3.0.0,>=2.1 in /usr/local/lib/python3.10/dist-packages (from botocore==1.34.144->awscli) (2.8.2)\n",
            "Requirement already satisfied: urllib3!=2.2.0,<3,>=1.25.4 in /usr/local/lib/python3.10/dist-packages (from botocore==1.34.144->awscli) (2.0.7)\n",
            "Requirement already satisfied: pyasn1>=0.1.3 in /usr/local/lib/python3.10/dist-packages (from rsa<4.8,>=3.1.2->awscli) (0.6.0)\n",
            "Requirement already satisfied: six>=1.5 in /usr/local/lib/python3.10/dist-packages (from python-dateutil<3.0.0,>=2.1->botocore==1.34.144->awscli) (1.16.0)\n",
            "Installing collected packages: rsa, jmespath, docutils, colorama, botocore, s3transfer, awscli\n",
            "  Attempting uninstall: rsa\n",
            "    Found existing installation: rsa 4.9\n",
            "    Uninstalling rsa-4.9:\n",
            "      Successfully uninstalled rsa-4.9\n",
            "  Attempting uninstall: docutils\n",
            "    Found existing installation: docutils 0.18.1\n",
            "    Uninstalling docutils-0.18.1:\n",
            "      Successfully uninstalled docutils-0.18.1\n",
            "Successfully installed awscli-1.33.26 botocore-1.34.144 colorama-0.4.6 docutils-0.16 jmespath-1.0.1 rsa-4.7.2 s3transfer-0.10.2\n",
            "AWS Access Key ID [None]: "
          ]
        }
      ],
      "source": [
        "!pip install awscli\n",
        "!aws configure"
      ]
    }
  ],
  "metadata": {
    "colab": {
      "provenance": [],
      "authorship_tag": "ABX9TyNmU8XMvLy5aOkGgbQ+hEX3",
      "include_colab_link": true
    },
    "kernelspec": {
      "display_name": "Python 3",
      "name": "python3"
    },
    "language_info": {
      "name": "python"
    }
  },
  "nbformat": 4,
  "nbformat_minor": 0
}